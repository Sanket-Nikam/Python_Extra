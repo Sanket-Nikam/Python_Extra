{
 "cells": [
  {
   "cell_type": "markdown",
   "metadata": {
    "id": "qw0NPWR6Rv5v"
   },
   "source": [
    "# <center>Expressions Practice Questions</center>"
   ]
  },
  {
   "cell_type": "markdown",
   "metadata": {},
   "source": [
    "### <center> Difficulty Level : Easy</center>"
   ]
  },
  {
   "cell_type": "markdown",
   "metadata": {},
   "source": [
    "- Add parentheses to the following expression so that it evaluates to 0.\n",
    "              8 -( 3 * 2) - (1 + 1)"
   ]
  },
  {
   "cell_type": "markdown",
   "metadata": {},
   "source": [
    "- Implement Simple Interest Formula : S.I. = P × R × T\n",
    "\n",
    "    - P = 1500\n",
    "    - R = 9.5\n",
    "    - T = 20"
   ]
  },
  {
   "cell_type": "markdown",
   "metadata": {
    "id": "oc4E8TFcR3ja"
   },
   "source": [
    "- Try to implement compound interest formula V=P(1+r/n)^nt\n",
    "\n",
    "    - P = 1500\n",
    "    - r = 0.043\n",
    "    - n = 4\n",
    "    - t = 6"
   ]
  },
  {
   "cell_type": "markdown",
   "metadata": {},
   "source": [
    "- Implement Fahrenheit to Celsius conversion formula : F = ( C x 9 / 5 ) + 32.\n",
    "    - C = 253"
   ]
  },
  {
   "cell_type": "markdown",
   "metadata": {},
   "source": [
    "### <center> Difficulty Level : Medium</center>"
   ]
  },
  {
   "cell_type": "markdown",
   "metadata": {},
   "source": [
    "- Create 2 variables and assign values like name and surname from the user. Then concatenate these 2 variables and display using print function."
   ]
  },
  {
   "cell_type": "markdown",
   "metadata": {},
   "source": [
    "- Create 2 variables and assign values like birth month and birth year from the user. Display these 2 variables and the length of these variables inside a single print function."
   ]
  },
  {
   "cell_type": "markdown",
   "metadata": {},
   "source": [
    "### <center> Difficulty Level : Hard</center>"
   ]
  },
  {
   "cell_type": "markdown",
   "metadata": {},
   "source": [
    "- Create 2 variables and assign values of user's favourite IPL team and any number between 1 - 10. Display the name of this favourite IPL team as many times as the number they pick from 1 - 10.\n",
    "\n",
    "    **Note :** Pass the message in the input function for taking information from the user."
   ]
  },
  {
   "cell_type": "markdown",
   "metadata": {},
   "source": [
    "- Create 4 variables and take input from user for information like height, weight, age and a number from 1 - 10. Display the results of true division, floor division and exponentiation of height, weight and age with the number selected from 1 - 10 concatenated together inside a print function respectively.\n",
    "\n",
    "    **Note :** Pass the message in the input function for taking information from the user.\n",
    "    **Hint :** Concatenate string '\\n' to display output on new line."
   ]
  },
  {
   "cell_type": "markdown",
   "metadata": {},
   "source": [
    "# <center>Happy Learning!</center>"
   ]
  }
 ],
 "metadata": {
  "colab": {
   "name": "scratchpad",
   "provenance": []
  },
  "kernelspec": {
   "display_name": "Python 3",
   "language": "python",
   "name": "python3"
  },
  "language_info": {
   "codemirror_mode": {
    "name": "ipython",
    "version": 3
   },
   "file_extension": ".py",
   "mimetype": "text/x-python",
   "name": "python",
   "nbconvert_exporter": "python",
   "pygments_lexer": "ipython3",
   "version": "3.7.6"
  }
 },
 "nbformat": 4,
 "nbformat_minor": 1
}
